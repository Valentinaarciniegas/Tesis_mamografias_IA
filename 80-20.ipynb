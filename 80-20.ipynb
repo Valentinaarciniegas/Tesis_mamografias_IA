{
 "cells": [
  {
   "cell_type": "code",
   "execution_count": 20,
   "id": "aacb0bdb",
   "metadata": {},
   "outputs": [],
   "source": [
    "import tensorflow as tf\n",
    "import os\n",
    "import sys\n",
    "from tensorflow import keras\n",
    "import sklearn\n",
    "from tensorflow.python.keras import backend as K\n",
    "from sklearn.model_selection import train_test_split\n",
    "from sklearn.metrics import classification_report, confusion_matrix, precision_score, ConfusionMatrixDisplay\n",
    "from skimage import io\n",
    "import numpy as np\n",
    "import matplotlib.pyplot as plt\n",
    "import cv2\n",
    "from cv2 import Canny\n",
    "from skimage.morphology import dilation, erosion, white_tophat, skeletonize\n",
    "from skimage.morphology import disk \n",
    "from skimage import transform\n",
    "from sklearn.svm import SVC"
   ]
  },
  {
   "cell_type": "code",
   "execution_count": 2,
   "id": "a9d967d2",
   "metadata": {},
   "outputs": [
    {
     "name": "stdout",
     "output_type": "stream",
     "text": [
      "{'MALIGNANTMASSES': 0, 'CALC': 1, 'BENIGNMASSES': 2, 'NORM': 3}\n"
     ]
    }
   ],
   "source": [
    "class_names = ['MALIGNANTMASSES', 'CALC', 'BENIGNMASSES', 'NORM']\n",
    "class_names_label = {class_names:i for i, class_names in enumerate(class_names)}\n",
    "print(class_names_label)\n",
    "\n",
    "IMAGE_SIZE = (224, 224, 3)\n",
    "\n",
    "def load_data():\n",
    "    main_directory = r\"C:\\Users\\hp\\Documents\\CursoML\\processed\\todas\"\n",
    "    \n",
    "    output = []\n",
    "    images = []\n",
    "    labels = []\n",
    "         \n",
    "    for folder in os.listdir(main_directory):\n",
    "        print(folder)\n",
    "        label = list(class_names_label.values())[int(folder)-1]\n",
    "\n",
    "        for file in os.listdir(os.path.join(main_directory, folder)):\n",
    "            img_path = os.path.join(os.path.join(main_directory, folder), file)\n",
    "\n",
    "            image = io.imread(img_path, as_gray=True, plugin='matplotlib')\n",
    "            image = transform.resize(image, IMAGE_SIZE)\n",
    "\n",
    "            images.append(image)\n",
    "            labels.append(label)\n",
    "\n",
    "    images = np.array(images, dtype='float32')\n",
    "    labels = np.array(labels, dtype='int32')\n",
    "\n",
    "    output.append(images)\n",
    "    output.append(labels)\n",
    "        \n",
    "    return output"
   ]
  },
  {
   "cell_type": "code",
   "execution_count": 3,
   "id": "98fa3b2c",
   "metadata": {},
   "outputs": [
    {
     "name": "stdout",
     "output_type": "stream",
     "text": [
      "1\n",
      "2\n",
      "3\n",
      "4\n"
     ]
    }
   ],
   "source": [
    "total_images, total_labels = load_data() "
   ]
  },
  {
   "cell_type": "code",
   "execution_count": 4,
   "id": "8c840a36",
   "metadata": {},
   "outputs": [
    {
     "data": {
      "text/plain": [
       "1139"
      ]
     },
     "execution_count": 4,
     "metadata": {},
     "output_type": "execute_result"
    }
   ],
   "source": [
    "len(total_images)"
   ]
  },
  {
   "cell_type": "code",
   "execution_count": 5,
   "id": "e274ae39",
   "metadata": {},
   "outputs": [
    {
     "name": "stdout",
     "output_type": "stream",
     "text": [
      "Datos de aprendizaje:  (911, 224, 224, 3) (911,)\n",
      "Datos de prueba:  (228, 224, 224, 3) (228,)\n"
     ]
    }
   ],
   "source": [
    "train_X, test_X, train_Y, test_Y = train_test_split(total_images, total_labels, test_size=0.2)\n",
    "print('Datos de aprendizaje: ', train_X.shape, train_Y.shape)\n",
    "print('Datos de prueba: ', test_X.shape, test_Y.shape)"
   ]
  },
  {
   "cell_type": "code",
   "execution_count": 6,
   "id": "bb240e51",
   "metadata": {},
   "outputs": [
    {
     "name": "stdout",
     "output_type": "stream",
     "text": [
      "Model: \"sequential\"\n",
      "_________________________________________________________________\n",
      " Layer (type)                Output Shape              Param #   \n",
      "=================================================================\n",
      " conv2d (Conv2D)             (None, 224, 224, 128)     9728      \n",
      "                                                                 \n",
      " leaky_re_lu (LeakyReLU)     (None, 224, 224, 128)     0         \n",
      "                                                                 \n",
      " max_pooling2d (MaxPooling2D  (None, 112, 112, 128)    0         \n",
      " )                                                               \n",
      "                                                                 \n",
      " conv2d_1 (Conv2D)           (None, 108, 108, 128)     409728    \n",
      "                                                                 \n",
      " leaky_re_lu_1 (LeakyReLU)   (None, 108, 108, 128)     0         \n",
      "                                                                 \n",
      " max_pooling2d_1 (MaxPooling  (None, 54, 54, 128)      0         \n",
      " 2D)                                                             \n",
      "                                                                 \n",
      " conv2d_2 (Conv2D)           (None, 54, 54, 128)       409728    \n",
      "                                                                 \n",
      " leaky_re_lu_2 (LeakyReLU)   (None, 54, 54, 128)       0         \n",
      "                                                                 \n",
      " max_pooling2d_2 (MaxPooling  (None, 27, 27, 128)      0         \n",
      " 2D)                                                             \n",
      "                                                                 \n",
      " flatten (Flatten)           (None, 93312)             0         \n",
      "                                                                 \n",
      " dense (Dense)               (None, 128)               11944064  \n",
      "                                                                 \n",
      " leaky_re_lu_3 (LeakyReLU)   (None, 128)               0         \n",
      "                                                                 \n",
      " dense_1 (Dense)             (None, 4)                 516       \n",
      "                                                                 \n",
      "=================================================================\n",
      "Total params: 12,773,764\n",
      "Trainable params: 12,773,764\n",
      "Non-trainable params: 0\n",
      "_________________________________________________________________\n"
     ]
    }
   ],
   "source": [
    "import keras\n",
    "#from keras.utils import to_categorical\n",
    "from keras.models import Sequential,Input,Model\n",
    "from keras.layers import Dense, Dropout, Flatten\n",
    "from keras.layers import Conv2D, MaxPooling2D\n",
    "from keras.layers.normalization import batch_normalization\n",
    "from keras.layers.advanced_activations import LeakyReLU\n",
    "\n",
    "#CREAR EL MODELO\n",
    "\n",
    "cancer_model = tf.keras.models.Sequential() #pila de capas\n",
    "\n",
    "cancer_model.add(tf.keras.layers.Conv2D(128, kernel_size=(5,5), activation='linear', padding='same', input_shape=(224,224,3))) #capa de convolucion\n",
    "cancer_model.add(LeakyReLU(alpha=0.1))\n",
    "cancer_model.add(tf.keras.layers.MaxPooling2D((2, 2),padding='same')) #agrupacion\n",
    "cancer_model.add(tf.keras.layers.Conv2D(128, kernel_size=(5,5), activation = 'relu'))\n",
    "cancer_model.add(LeakyReLU(alpha=0.1))\n",
    "cancer_model.add(tf.keras.layers.MaxPooling2D(pool_size = (2,2)))\n",
    "cancer_model.add(tf.keras.layers.Conv2D(128, (5, 5), activation='linear', padding='same'))\n",
    "cancer_model.add(LeakyReLU(alpha=0.1))\n",
    "cancer_model.add(tf.keras.layers.MaxPooling2D(pool_size=(2, 2), padding='same'))\n",
    "cancer_model.add(tf.keras.layers.Flatten())\n",
    "cancer_model.add(tf.keras.layers.Dense(128, activation='linear'))\n",
    "cancer_model.add(LeakyReLU(alpha=0.1))\n",
    "cancer_model.add(tf.keras.layers.Dense(4, activation='softmax')) #capa softmax para clasificacion\n",
    "\n",
    "cancer_model.summary()\n",
    "\n",
    "cancer_model.compile(optimizer=\"adam\",\n",
    "                     loss=keras.losses.sparse_categorical_crossentropy,\n",
    "                     metrics=['accuracy'])"
   ]
  },
  {
   "cell_type": "code",
   "execution_count": 7,
   "id": "8073ac9c",
   "metadata": {},
   "outputs": [
    {
     "name": "stdout",
     "output_type": "stream",
     "text": [
      "Epoch 1/5\n",
      "15/15 [==============================] - 257s 17s/step - loss: 2.4351 - accuracy: 0.4446\n",
      "Epoch 2/5\n",
      "15/15 [==============================] - 268s 18s/step - loss: 0.9078 - accuracy: 0.7025\n",
      "Epoch 3/5\n",
      "15/15 [==============================] - 268s 18s/step - loss: 0.7254 - accuracy: 0.7607\n",
      "Epoch 4/5\n",
      "15/15 [==============================] - 262s 17s/step - loss: 0.6382 - accuracy: 0.8013\n",
      "Epoch 5/5\n",
      "15/15 [==============================] - 260s 17s/step - loss: 0.5632 - accuracy: 0.8101\n"
     ]
    }
   ],
   "source": [
    "epochs = 5\n",
    "batch_size = 64 #numero de muestras por actualizacion \n",
    "cancer_train = cancer_model.fit(train_X, train_Y, batch_size=batch_size, epochs=epochs)"
   ]
  },
  {
   "cell_type": "code",
   "execution_count": 8,
   "id": "b3b6e43d",
   "metadata": {},
   "outputs": [
    {
     "name": "stdout",
     "output_type": "stream",
     "text": [
      "8/8 [==============================] - 32s 2s/step - loss: 0.6503 - accuracy: 0.7851\n",
      "Test loss: 0.6502804756164551\n",
      "Test accuracy: 0.7850877046585083\n"
     ]
    }
   ],
   "source": [
    "test_eval = cancer_model.evaluate(test_X, test_Y)\n",
    "print('Test loss:', test_eval[0])\n",
    "print('Test accuracy:', test_eval[1])"
   ]
  },
  {
   "cell_type": "code",
   "execution_count": 9,
   "id": "118f1730",
   "metadata": {},
   "outputs": [
    {
     "name": "stdout",
     "output_type": "stream",
     "text": [
      "              precision    recall  f1-score   support\n",
      "\n",
      "           0       0.92      0.92      0.92        74\n",
      "           1       0.64      0.87      0.74        55\n",
      "           2       0.90      0.76      0.82        46\n",
      "           3       0.70      0.53      0.60        53\n",
      "\n",
      "    accuracy                           0.79       228\n",
      "   macro avg       0.79      0.77      0.77       228\n",
      "weighted avg       0.80      0.79      0.78       228\n",
      "\n"
     ]
    }
   ],
   "source": [
    "predictions = cancer_model.predict(test_X)\n",
    "pred_labels = np.argmax(predictions, axis = 1)\n",
    "print(classification_report(test_Y, pred_labels))"
   ]
  },
  {
   "cell_type": "code",
   "execution_count": 23,
   "id": "49cb42e5",
   "metadata": {},
   "outputs": [
    {
     "data": {
      "image/png": "[encoded data removed]",
      "text/plain": [
       "<Figure size 432x288 with 2 Axes>"
      ]
     },
     "metadata": {
      "needs_background": "light"
     },
     "output_type": "display_data"
    }
   ],
   "source": [
    "disp = ConfusionMatrixDisplay(confusion_matrix=confusion_matrix(test_Y, pred_labels),\n",
    "                              display_labels=class_names)\n",
    "disp.plot()\n",
    "plt.show()\n"
   ]
  },
  {
   "cell_type": "code",
   "execution_count": 24,
   "id": "bb6d432b",
   "metadata": {},
   "outputs": [
    {
     "data": {
      "text/plain": [
       "0.7964125056230319"
      ]
     },
     "execution_count": 24,
     "metadata": {},
     "output_type": "execute_result"
    }
   ],
   "source": [
    "precision_score(test_Y, pred_labels, average='weighted')"
   ]
  },
  {
   "cell_type": "code",
   "execution_count": 28,
   "id": "8c8a17d4",
   "metadata": {},
   "outputs": [
    {
     "data": {
      "text/plain": [
       "179"
      ]
     },
     "execution_count": 28,
     "metadata": {},
     "output_type": "execute_result"
    }
   ],
   "source": [
    "accuracy_score(test_Y, pred_labels,normalize=False)"
   ]
  },
  {
   "cell_type": "code",
   "execution_count": 26,
   "id": "49a73df1",
   "metadata": {},
   "outputs": [
    {
     "data": {
      "text/plain": [
       "0.7850877192982456"
      ]
     },
     "execution_count": 26,
     "metadata": {},
     "output_type": "execute_result"
    }
   ],
   "source": [
    "recall_score(test_Y, pred_labels, average='weighted')"
   ]
  },
  {
   "cell_type": "code",
   "execution_count": 29,
   "id": "7dd2eb4f",
   "metadata": {},
   "outputs": [],
   "source": [
    "#vgg16\n",
    "from keras.applications.vgg16 import VGG16\n",
    "from keras.preprocessing import image\n",
    "from keras.applications.vgg16 import preprocess_input\n",
    "from keras.models import Model\n",
    "\n",
    "model = VGG16(weights = 'imagenet', include_top = False)\n",
    "model = Model(inputs=model.inputs, outputs= model.layers[-5].output)"
   ]
  },
  {
   "cell_type": "code",
   "execution_count": 31,
   "id": "a9e14358",
   "metadata": {},
   "outputs": [],
   "source": [
    "train_features = model.predict(train_X)\n",
    "test_features = model.predict(test_X)"
   ]
  },
  {
   "cell_type": "code",
   "execution_count": 32,
   "id": "aed79310",
   "metadata": {},
   "outputs": [],
   "source": [
    "from keras.layers import Input, Dense, Conv2D, Activation, MaxPooling2D, Flatten\n",
    "\n",
    "model2 = VGG16(weights = 'imagenet', include_top = False)\n",
    "\n",
    "input_shape = model2.layers[-4].get_input_shape_at(0)\n",
    "layer_input = Input(shape = (14, 14, 512))\n",
    "\n",
    "x = layer_input\n",
    "for layer in model2.layers[-4::1]:\n",
    "    x = layer(x)\n",
    "    \n",
    "x = Conv2D(64, (3,3), activation = 'relu')(x)\n",
    "x = MaxPooling2D(pool_size=(2,2))(x)\n",
    "x = Flatten()(x)\n",
    "x = Dense(100, activation = 'relu')(x)\n",
    "x = Dense(4, activation = 'softmax')(x)\n",
    "\n",
    "#new model\n",
    "new_model = Model(layer_input, x)"
   ]
  },
  {
   "cell_type": "code",
   "execution_count": 33,
   "id": "47b6733a",
   "metadata": {},
   "outputs": [],
   "source": [
    "new_model.compile(optimizer = 'adam', loss = 'sparse_categorical_crossentropy', metrics=['accuracy'])"
   ]
  },
  {
   "cell_type": "code",
   "execution_count": 34,
   "id": "1972617c",
   "metadata": {},
   "outputs": [
    {
     "name": "stdout",
     "output_type": "stream",
     "text": [
      "Epoch 1/10\n",
      "8/8 [==============================] - 51s 6s/step - loss: 1.2516 - accuracy: 0.4709\n",
      "Epoch 2/10\n",
      "8/8 [==============================] - 50s 6s/step - loss: 0.9122 - accuracy: 0.6674\n",
      "Epoch 3/10\n",
      "8/8 [==============================] - 50s 6s/step - loss: 0.5958 - accuracy: 0.8101\n",
      "Epoch 4/10\n",
      "8/8 [==============================] - 51s 6s/step - loss: 0.5108 - accuracy: 0.8145\n",
      "Epoch 5/10\n",
      "8/8 [==============================] - 53s 6s/step - loss: 0.5016 - accuracy: 0.8321\n",
      "Epoch 6/10\n",
      "8/8 [==============================] - 50s 6s/step - loss: 0.4837 - accuracy: 0.8222\n",
      "Epoch 7/10\n",
      "8/8 [==============================] - 50s 6s/step - loss: 0.4640 - accuracy: 0.8310\n",
      "Epoch 8/10\n",
      "8/8 [==============================] - 50s 6s/step - loss: 0.4297 - accuracy: 0.8375\n",
      "Epoch 9/10\n",
      "8/8 [==============================] - 50s 6s/step - loss: 0.4432 - accuracy: 0.8299\n",
      "Epoch 10/10\n",
      "8/8 [==============================] - 51s 6s/step - loss: 0.4239 - accuracy: 0.8397\n"
     ]
    }
   ],
   "source": [
    "history = new_model.fit(train_features, train_Y, batch_size = 128, epochs = 10)"
   ]
  },
  {
   "cell_type": "code",
   "execution_count": 37,
   "id": "16e84f84",
   "metadata": {},
   "outputs": [
    {
     "name": "stdout",
     "output_type": "stream",
     "text": [
      "Accuracy : 0.7675438596491229\n"
     ]
    }
   ],
   "source": [
    "from sklearn.metrics import accuracy_score\n",
    "\n",
    "predictions = new_model.predict(test_features)\n",
    "pred_labels =np.argmax(predictions, axis = 1)\n",
    "print(\"Accuracy : {}\".format(accuracy_score(test_Y, pred_labels)))\n"
   ]
  },
  {
   "cell_type": "code",
   "execution_count": 38,
   "id": "1da46190",
   "metadata": {},
   "outputs": [
    {
     "data": {
      "image/png": "[encoded data removed]",
      "text/plain": [
       "<Figure size 432x288 with 2 Axes>"
      ]
     },
     "metadata": {
      "needs_background": "light"
     },
     "output_type": "display_data"
    }
   ],
   "source": [
    "from sklearn.metrics import confusion_matrix, f1_score, roc_curve, precision_score, recall_score, accuracy_score, roc_auc_score, plot_confusion_matrix, ConfusionMatrixDisplay\n",
    "from sklearn import metrics\n",
    "disp = ConfusionMatrixDisplay(confusion_matrix=confusion_matrix(test_Y, pred_labels),\n",
    "                              display_labels=class_names)\n",
    "disp.plot()\n",
    "plt.show()"
   ]
  },
  {
   "cell_type": "code",
   "execution_count": null,
   "id": "e8b3fbda",
   "metadata": {},
   "outputs": [],
   "source": []
  }
 ],
 "metadata": {
  "kernelspec": {
   "display_name": "Python 3 (ipykernel)",
   "language": "python",
   "name": "python3"
  },
  "language_info": {
   "codemirror_mode": {
    "name": "ipython",
    "version": 3
   },
   "file_extension": ".py",
   "mimetype": "text/x-python",
   "name": "python",
   "nbconvert_exporter": "python",
   "pygments_lexer": "ipython3",
   "version": "3.9.7"
  }
 },
 "nbformat": 4,
 "nbformat_minor": 5
}
