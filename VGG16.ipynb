{
 "cells": [
  {
   "cell_type": "code",
   "execution_count": 1,
   "id": "81044dd5",
   "metadata": {},
   "outputs": [],
   "source": [
    "import tensorflow as tf\n",
    "import os\n",
    "import sys\n",
    "from tensorflow import keras\n",
    "import sklearn\n",
    "from tensorflow.python.keras import backend as K\n",
    "from sklearn.model_selection import train_test_split\n",
    "from sklearn.metrics import classification_report, confusion_matrix\n",
    "from skimage import io\n",
    "import numpy as np\n",
    "import matplotlib.pyplot as plt\n",
    "import cv2\n",
    "from cv2 import Canny\n",
    "from skimage.morphology import dilation, erosion, white_tophat, skeletonize\n",
    "from skimage.morphology import disk \n",
    "from skimage import transform\n",
    "\n",
    "from keras.models import Sequential\n",
    "from keras.layers import Dense, Conv2D, MaxPool2D , Flatten\n",
    "from keras.preprocessing.image import ImageDataGenerator"
   ]
  },
  {
   "cell_type": "code",
   "execution_count": 2,
   "id": "9ce353e3",
   "metadata": {},
   "outputs": [
    {
     "name": "stdout",
     "output_type": "stream",
     "text": [
      "{'MALIGNANTMASSES': 0, 'CALC': 1, 'BENIGNMASSES': 2, 'NORM': 3}\n"
     ]
    }
   ],
   "source": [
    "class_names = ['MALIGNANTMASSES', 'CALC', 'BENIGNMASSES', 'NORM']\n",
    "class_names_label = {class_names:i for i, class_names in enumerate(class_names)}\n",
    "print(class_names_label)\n",
    "\n",
    "IMAGE_SIZE = (224, 224, 3)\n",
    "\n",
    "def load_data():\n",
    "    main_directory = r\"C:\\Users\\hp\\Documents\\CursoML\\processed\"\n",
    "    CATEGORY = [\"Training\", \"Testing\"]\n",
    "    \n",
    "    output = []\n",
    "    \n",
    "    for category in CATEGORY: \n",
    "        path = os.path.join(main_directory, category)\n",
    "        print(path)\n",
    "        \n",
    "        images = []\n",
    "        labels = []\n",
    "        \n",
    "       # print(\"Loading {}\".format(category))\n",
    "        \n",
    "        for folder in os.listdir(path):\n",
    "            print(folder)\n",
    "            label = list(class_names_label.values())[int(folder)-1]\n",
    "            \n",
    "            for file in os.listdir(os.path.join(path, folder)):\n",
    "                img_path = os.path.join(os.path.join(path, folder), file)\n",
    "                \n",
    "                image = io.imread(img_path, as_gray=True, plugin='matplotlib')\n",
    "                image = transform.resize(image, IMAGE_SIZE)\n",
    "                \n",
    "                images.append(image)\n",
    "                labels.append(label)\n",
    "                \n",
    "        images = np.array(images, dtype='float32')\n",
    "        labels = np.array(labels, dtype='int32')\n",
    "        \n",
    "        output.append((images, labels))\n",
    "        \n",
    "    return output"
   ]
  },
  {
   "cell_type": "code",
   "execution_count": 3,
   "id": "d866c678",
   "metadata": {},
   "outputs": [
    {
     "name": "stdout",
     "output_type": "stream",
     "text": [
      "C:\\Users\\hp\\Documents\\CursoML\\processed\\Training\n",
      "1\n",
      "2\n",
      "3\n",
      "4\n",
      "C:\\Users\\hp\\Documents\\CursoML\\processed\\Testing\n",
      "1\n",
      "2\n",
      "3\n",
      "4\n"
     ]
    }
   ],
   "source": [
    "(train_images, train_labels), (test_images, test_labels) = load_data()  "
   ]
  },
  {
   "cell_type": "code",
   "execution_count": 4,
   "id": "090aaf1f",
   "metadata": {},
   "outputs": [
    {
     "name": "stdout",
     "output_type": "stream",
     "text": [
      "Model: \"sequential\"\n",
      "_________________________________________________________________\n",
      " Layer (type)                Output Shape              Param #   \n",
      "=================================================================\n",
      " conv2d (Conv2D)             (None, 224, 224, 128)     9728      \n",
      "                                                                 \n",
      " conv2d_1 (Conv2D)           (None, 224, 224, 64)      204864    \n",
      "                                                                 \n",
      " max_pooling2d (MaxPooling2D  (None, 112, 112, 64)     0         \n",
      " )                                                               \n",
      "                                                                 \n",
      " conv2d_2 (Conv2D)           (None, 112, 112, 128)     204928    \n",
      "                                                                 \n",
      " conv2d_3 (Conv2D)           (None, 112, 112, 128)     409728    \n",
      "                                                                 \n",
      " max_pooling2d_1 (MaxPooling  (None, 56, 56, 128)      0         \n",
      " 2D)                                                             \n",
      "                                                                 \n",
      " conv2d_4 (Conv2D)           (None, 56, 56, 256)       819456    \n",
      "                                                                 \n",
      " conv2d_5 (Conv2D)           (None, 56, 56, 256)       1638656   \n",
      "                                                                 \n",
      " conv2d_6 (Conv2D)           (None, 56, 56, 256)       1638656   \n",
      "                                                                 \n",
      " max_pooling2d_2 (MaxPooling  (None, 28, 28, 256)      0         \n",
      " 2D)                                                             \n",
      "                                                                 \n",
      " conv2d_7 (Conv2D)           (None, 28, 28, 512)       3277312   \n",
      "                                                                 \n",
      " conv2d_8 (Conv2D)           (None, 28, 28, 512)       6554112   \n",
      "                                                                 \n",
      " conv2d_9 (Conv2D)           (None, 28, 28, 512)       6554112   \n",
      "                                                                 \n",
      " max_pooling2d_3 (MaxPooling  (None, 14, 14, 512)      0         \n",
      " 2D)                                                             \n",
      "                                                                 \n",
      " conv2d_10 (Conv2D)          (None, 14, 14, 512)       6554112   \n",
      "                                                                 \n",
      " conv2d_11 (Conv2D)          (None, 14, 14, 512)       6554112   \n",
      "                                                                 \n",
      " conv2d_12 (Conv2D)          (None, 14, 14, 512)       6554112   \n",
      "                                                                 \n",
      " max_pooling2d_4 (MaxPooling  (None, 7, 7, 512)        0         \n",
      " 2D)                                                             \n",
      "                                                                 \n",
      " flatten (Flatten)           (None, 25088)             0         \n",
      "                                                                 \n",
      " dense (Dense)               (None, 4096)              102764544 \n",
      "                                                                 \n",
      " dense_1 (Dense)             (None, 4096)              16781312  \n",
      "                                                                 \n",
      " dense_2 (Dense)             (None, 4)                 16388     \n",
      "                                                                 \n",
      "=================================================================\n",
      "Total params: 160,536,132\n",
      "Trainable params: 160,536,132\n",
      "Non-trainable params: 0\n",
      "_________________________________________________________________\n"
     ]
    }
   ],
   "source": [
    "model = Sequential()\n",
    "model.add(Conv2D(input_shape=(224,224,3),filters=128,kernel_size=(5,5),padding=\"same\", activation=\"linear\"))\n",
    "model.add(Conv2D(filters=64,kernel_size=(5,5),padding=\"same\", activation=\"relu\"))\n",
    "model.add(MaxPool2D(pool_size=(2,2),strides=(2,2)))\n",
    "model.add(Conv2D(filters=128, kernel_size=(5,5), padding=\"same\", activation=\"relu\"))\n",
    "model.add(Conv2D(filters=128, kernel_size=(5,5), padding=\"same\", activation=\"relu\"))\n",
    "model.add(MaxPool2D(pool_size=(2,2),strides=(2,2)))\n",
    "model.add(Conv2D(filters=256, kernel_size=(5,5), padding=\"same\", activation=\"relu\"))\n",
    "model.add(Conv2D(filters=256, kernel_size=(5,5), padding=\"same\", activation=\"relu\"))\n",
    "model.add(Conv2D(filters=256, kernel_size=(5,5), padding=\"same\", activation=\"relu\"))\n",
    "model.add(MaxPool2D(pool_size=(2,2),strides=(2,2)))\n",
    "model.add(Conv2D(filters=512, kernel_size=(5,5), padding=\"same\", activation=\"relu\"))\n",
    "model.add(Conv2D(filters=512, kernel_size=(5,5), padding=\"same\", activation=\"relu\"))\n",
    "model.add(Conv2D(filters=512, kernel_size=(5,5), padding=\"same\", activation=\"relu\"))\n",
    "model.add(MaxPool2D(pool_size=(2,2),strides=(2,2)))\n",
    "model.add(Conv2D(filters=512, kernel_size=(5,5), padding=\"same\", activation=\"relu\"))\n",
    "model.add(Conv2D(filters=512, kernel_size=(5,5), padding=\"same\", activation=\"relu\"))\n",
    "model.add(Conv2D(filters=512, kernel_size=(5,5), padding=\"same\", activation=\"relu\"))\n",
    "model.add(MaxPool2D(pool_size=(2,2),strides=(2,2)))\n",
    "model.add(Flatten())\n",
    "model.add(Dense(units=4096,activation=\"relu\"))\n",
    "model.add(Dense(units=4096,activation=\"relu\"))\n",
    "model.add(Dense(units=4, activation=\"softmax\"))\n",
    "\n",
    "model.summary()"
   ]
  },
  {
   "cell_type": "code",
   "execution_count": 5,
   "id": "a67b6682",
   "metadata": {},
   "outputs": [],
   "source": [
    "model.compile(optimizer=\"adam\", loss=keras.losses.sparse_categorical_crossentropy, metrics=['accuracy'])"
   ]
  },
  {
   "cell_type": "code",
   "execution_count": 6,
   "id": "2401cf3e",
   "metadata": {},
   "outputs": [
    {
     "name": "stdout",
     "output_type": "stream",
     "text": [
      "Epoch 1/10\n",
      "7/7 [==============================] - 1794s 252s/step - loss: 4.5263 - accuracy: 0.2382\n",
      "Epoch 2/10\n",
      "7/7 [==============================] - 1801s 253s/step - loss: 3.0791 - accuracy: 0.2527\n",
      "Epoch 3/10\n",
      "7/7 [==============================] - 1778s 249s/step - loss: 1.4044 - accuracy: 0.2551\n",
      "Epoch 4/10\n",
      "7/7 [==============================] - 1766s 249s/step - loss: 1.5795 - accuracy: 0.2600\n",
      "Epoch 5/10\n",
      "7/7 [==============================] - 1770s 249s/step - loss: 1.3848 - accuracy: 0.2588\n",
      "Epoch 6/10\n",
      "7/7 [==============================] - 1751s 246s/step - loss: 1.3907 - accuracy: 0.2527\n",
      "Epoch 7/10\n",
      "7/7 [==============================] - 1739s 244s/step - loss: 1.3849 - accuracy: 0.2769\n",
      "Epoch 8/10\n",
      "7/7 [==============================] - 1722s 241s/step - loss: 1.3834 - accuracy: 0.2769\n",
      "Epoch 9/10\n",
      "7/7 [==============================] - 1710s 240s/step - loss: 1.3830 - accuracy: 0.2769\n",
      "Epoch 10/10\n",
      "7/7 [==============================] - 1725s 243s/step - loss: 1.3838 - accuracy: 0.2769\n"
     ]
    }
   ],
   "source": [
    "history = model.fit(train_images, train_labels, batch_size = 128, epochs = 10)"
   ]
  },
  {
   "cell_type": "code",
   "execution_count": 7,
   "id": "b176de68",
   "metadata": {},
   "outputs": [
    {
     "name": "stdout",
     "output_type": "stream",
     "text": [
      "10/10 [==============================] - 150s 15s/step - loss: 1.3831 - accuracy: 0.3077\n",
      "Test loss: 1.3831113576889038\n",
      "Test accuracy: 0.3076923191547394\n"
     ]
    }
   ],
   "source": [
    "test_eval = model.evaluate(test_images, test_labels)\n",
    "print('Test loss:', test_eval[0])\n",
    "print('Test accuracy:', test_eval[1])"
   ]
  },
  {
   "cell_type": "code",
   "execution_count": 21,
   "id": "00a6a876",
   "metadata": {},
   "outputs": [
    {
     "name": "stdout",
     "output_type": "stream",
     "text": [
      "dict_keys(['loss', 'accuracy', 'val_loss', 'val_accuracy'])\n"
     ]
    }
   ],
   "source": [
    "print(history.history.keys())"
   ]
  },
  {
   "cell_type": "code",
   "execution_count": 22,
   "id": "8098bd29",
   "metadata": {},
   "outputs": [
    {
     "data": {
      "image/png": "[encoded data removed]",
      "text/plain": [
       "<Figure size 432x288 with 1 Axes>"
      ]
     },
     "metadata": {
      "needs_background": "light"
     },
     "output_type": "display_data"
    },
    {
     "data": {
      "image/png": "[encoded data removed]",
      "text/plain": [
       "<Figure size 432x288 with 1 Axes>"
      ]
     },
     "metadata": {
      "needs_background": "light"
     },
     "output_type": "display_data"
    }
   ],
   "source": [
    "plt.plot(history.history['accuracy'])\n",
    "plt.plot(history.history['val_accuracy'])\n",
    "plt.title('Exactitud del modelo')\n",
    "plt.ylabel('Exactitud')\n",
    "plt.xlabel('epocas')\n",
    "plt.legend(['Entrenamiento', 'Prueba'], loc='upper left')\n",
    "plt.show()\n",
    "\n",
    "plt.plot(history.history['loss'])\n",
    "plt.plot(history.history['val_loss'])\n",
    "plt.title('Perdidas del modelo')\n",
    "plt.ylabel('perdidas')\n",
    "plt.xlabel('epocas')\n",
    "plt.legend(['Entrenamiento', 'Prueba'], loc='upper left')\n",
    "plt.show()"
   ]
  },
  {
   "cell_type": "code",
   "execution_count": null,
   "id": "ca4cd3d9",
   "metadata": {},
   "outputs": [],
   "source": []
  }
 ],
 "metadata": {
  "kernelspec": {
   "display_name": "Python 3 (ipykernel)",
   "language": "python",
   "name": "python3"
  },
  "language_info": {
   "codemirror_mode": {
    "name": "ipython",
    "version": 3
   },
   "file_extension": ".py",
   "mimetype": "text/x-python",
   "name": "python",
   "nbconvert_exporter": "python",
   "pygments_lexer": "ipython3",
   "version": "3.9.7"
  }
 },
 "nbformat": 4,
 "nbformat_minor": 5
}
