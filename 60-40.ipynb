{
 "cells": [
  {
   "cell_type": "code",
   "execution_count": 1,
   "id": "076dfe05",
   "metadata": {},
   "outputs": [],
   "source": [
    "import tensorflow as tf\n",
    "import os\n",
    "import sys\n",
    "from tensorflow import keras\n",
    "import sklearn\n",
    "from tensorflow.python.keras import backend as K\n",
    "from sklearn.model_selection import train_test_split\n",
    "from sklearn.metrics import classification_report, confusion_matrix, precision_score, ConfusionMatrixDisplay\n",
    "from skimage import io\n",
    "import numpy as np\n",
    "import matplotlib.pyplot as plt\n",
    "import cv2\n",
    "from cv2 import Canny\n",
    "from skimage.morphology import dilation, erosion, white_tophat, skeletonize\n",
    "from skimage.morphology import disk \n",
    "from skimage import transform\n",
    "from sklearn.svm import SVC"
   ]
  },
  {
   "cell_type": "code",
   "execution_count": 2,
   "id": "4636afb7",
   "metadata": {},
   "outputs": [
    {
     "name": "stdout",
     "output_type": "stream",
     "text": [
      "{'MALIGNANTMASSES': 0, 'CALC': 1, 'BENIGNMASSES': 2, 'NORM': 3}\n"
     ]
    }
   ],
   "source": [
    "class_names = ['MALIGNANTMASSES', 'CALC', 'BENIGNMASSES', 'NORM']\n",
    "class_names_label = {class_names:i for i, class_names in enumerate(class_names)}\n",
    "print(class_names_label)\n",
    "\n",
    "IMAGE_SIZE = (224, 224, 3)\n",
    "\n",
    "def load_data():\n",
    "    main_directory = r\"C:\\Users\\hp\\Documents\\CursoML\\processed\\todas\"\n",
    "    \n",
    "    output = []\n",
    "    images = []\n",
    "    labels = []\n",
    "         \n",
    "    for folder in os.listdir(main_directory):\n",
    "        print(folder)\n",
    "        label = list(class_names_label.values())[int(folder)-1]\n",
    "\n",
    "        for file in os.listdir(os.path.join(main_directory, folder)):\n",
    "            img_path = os.path.join(os.path.join(main_directory, folder), file)\n",
    "\n",
    "            image = io.imread(img_path, as_gray=True, plugin='matplotlib')\n",
    "            image = transform.resize(image, IMAGE_SIZE)\n",
    "\n",
    "            images.append(image)\n",
    "            labels.append(label)\n",
    "\n",
    "    images = np.array(images, dtype='float32')\n",
    "    labels = np.array(labels, dtype='int32')\n",
    "\n",
    "    output.append(images)\n",
    "    output.append(labels)\n",
    "        \n",
    "    return output"
   ]
  },
  {
   "cell_type": "code",
   "execution_count": 3,
   "id": "e8c38f60",
   "metadata": {},
   "outputs": [
    {
     "name": "stdout",
     "output_type": "stream",
     "text": [
      "1\n",
      "2\n",
      "3\n",
      "4\n"
     ]
    }
   ],
   "source": [
    "total_images, total_labels = load_data() "
   ]
  },
  {
   "cell_type": "code",
   "execution_count": 4,
   "id": "8290256d",
   "metadata": {},
   "outputs": [
    {
     "name": "stdout",
     "output_type": "stream",
     "text": [
      "Datos de aprendizaje:  (683, 224, 224, 3) (683,)\n",
      "Datos de prueba:  (456, 224, 224, 3) (456,)\n"
     ]
    }
   ],
   "source": [
    "train_X, test_X, train_Y, test_Y = train_test_split(total_images, total_labels, test_size=0.4)\n",
    "print('Datos de aprendizaje: ', train_X.shape, train_Y.shape)\n",
    "print('Datos de prueba: ', test_X.shape, test_Y.shape)"
   ]
  },
  {
   "cell_type": "code",
   "execution_count": 5,
   "id": "5ab632e4",
   "metadata": {},
   "outputs": [
    {
     "name": "stdout",
     "output_type": "stream",
     "text": [
      "Model: \"sequential\"\n",
      "_________________________________________________________________\n",
      " Layer (type)                Output Shape              Param #   \n",
      "=================================================================\n",
      " conv2d (Conv2D)             (None, 224, 224, 128)     9728      \n",
      "                                                                 \n",
      " leaky_re_lu (LeakyReLU)     (None, 224, 224, 128)     0         \n",
      "                                                                 \n",
      " max_pooling2d (MaxPooling2D  (None, 112, 112, 128)    0         \n",
      " )                                                               \n",
      "                                                                 \n",
      " conv2d_1 (Conv2D)           (None, 108, 108, 128)     409728    \n",
      "                                                                 \n",
      " leaky_re_lu_1 (LeakyReLU)   (None, 108, 108, 128)     0         \n",
      "                                                                 \n",
      " max_pooling2d_1 (MaxPooling  (None, 54, 54, 128)      0         \n",
      " 2D)                                                             \n",
      "                                                                 \n",
      " conv2d_2 (Conv2D)           (None, 54, 54, 128)       409728    \n",
      "                                                                 \n",
      " leaky_re_lu_2 (LeakyReLU)   (None, 54, 54, 128)       0         \n",
      "                                                                 \n",
      " max_pooling2d_2 (MaxPooling  (None, 27, 27, 128)      0         \n",
      " 2D)                                                             \n",
      "                                                                 \n",
      " flatten (Flatten)           (None, 93312)             0         \n",
      "                                                                 \n",
      " dense (Dense)               (None, 128)               11944064  \n",
      "                                                                 \n",
      " leaky_re_lu_3 (LeakyReLU)   (None, 128)               0         \n",
      "                                                                 \n",
      " dense_1 (Dense)             (None, 4)                 516       \n",
      "                                                                 \n",
      "=================================================================\n",
      "Total params: 12,773,764\n",
      "Trainable params: 12,773,764\n",
      "Non-trainable params: 0\n",
      "_________________________________________________________________\n"
     ]
    }
   ],
   "source": [
    "import keras\n",
    "#from keras.utils import to_categorical\n",
    "from keras.models import Sequential,Input,Model\n",
    "from keras.layers import Dense, Dropout, Flatten\n",
    "from keras.layers import Conv2D, MaxPooling2D\n",
    "from keras.layers.normalization import batch_normalization\n",
    "from keras.layers.advanced_activations import LeakyReLU\n",
    "\n",
    "#CREAR EL MODELO\n",
    "\n",
    "cancer_model = tf.keras.models.Sequential() #pila de capas\n",
    "\n",
    "cancer_model.add(tf.keras.layers.Conv2D(128, kernel_size=(5,5), activation='linear', padding='same', input_shape=(224,224,3))) #capa de convolucion\n",
    "cancer_model.add(LeakyReLU(alpha=0.1))\n",
    "cancer_model.add(tf.keras.layers.MaxPooling2D((2, 2),padding='same')) #agrupacion\n",
    "cancer_model.add(tf.keras.layers.Conv2D(128, kernel_size=(5,5), activation = 'relu'))\n",
    "cancer_model.add(LeakyReLU(alpha=0.1))\n",
    "cancer_model.add(tf.keras.layers.MaxPooling2D(pool_size = (2,2)))\n",
    "cancer_model.add(tf.keras.layers.Conv2D(128, (5, 5), activation='linear', padding='same'))\n",
    "cancer_model.add(LeakyReLU(alpha=0.1))\n",
    "cancer_model.add(tf.keras.layers.MaxPooling2D(pool_size=(2, 2), padding='same'))\n",
    "cancer_model.add(tf.keras.layers.Flatten())\n",
    "cancer_model.add(tf.keras.layers.Dense(128, activation='linear'))\n",
    "cancer_model.add(LeakyReLU(alpha=0.1))\n",
    "cancer_model.add(tf.keras.layers.Dense(4, activation='softmax')) #capa softmax para clasificacion\n",
    "\n",
    "cancer_model.summary()\n",
    "\n",
    "cancer_model.compile(optimizer=\"adam\",\n",
    "                     loss=keras.losses.sparse_categorical_crossentropy,\n",
    "                     metrics=['accuracy'])"
   ]
  },
  {
   "cell_type": "code",
   "execution_count": 6,
   "id": "954be0f1",
   "metadata": {},
   "outputs": [
    {
     "name": "stdout",
     "output_type": "stream",
     "text": [
      "Epoch 1/5\n",
      "11/11 [==============================] - 198s 18s/step - loss: 2.8865 - accuracy: 0.3704\n",
      "Epoch 2/5\n",
      "11/11 [==============================] - 198s 18s/step - loss: 1.0631 - accuracy: 0.5534\n",
      "Epoch 3/5\n",
      "11/11 [==============================] - 198s 18s/step - loss: 0.7945 - accuracy: 0.7189\n",
      "Epoch 4/5\n",
      "11/11 [==============================] - 197s 18s/step - loss: 0.6608 - accuracy: 0.7775\n",
      "Epoch 5/5\n",
      "11/11 [==============================] - 239s 22s/step - loss: 0.5790 - accuracy: 0.8053\n"
     ]
    }
   ],
   "source": [
    "epochs = 5\n",
    "batch_size = 64 #numero de muestras por actualizacion \n",
    "cancer_train = cancer_model.fit(train_X, train_Y, batch_size=batch_size, epochs=epochs)"
   ]
  },
  {
   "cell_type": "code",
   "execution_count": 7,
   "id": "710f976e",
   "metadata": {},
   "outputs": [
    {
     "name": "stdout",
     "output_type": "stream",
     "text": [
      "15/15 [==============================] - 57s 4s/step - loss: 0.7635 - accuracy: 0.7982\n",
      "Test loss: 0.763451337814331\n",
      "Test accuracy: 0.7982456088066101\n"
     ]
    }
   ],
   "source": [
    "test_eval = cancer_model.evaluate(test_X, test_Y)\n",
    "print('Test loss:', test_eval[0])\n",
    "print('Test accuracy:', test_eval[1])"
   ]
  },
  {
   "cell_type": "code",
   "execution_count": 8,
   "id": "39c317f9",
   "metadata": {},
   "outputs": [
    {
     "name": "stdout",
     "output_type": "stream",
     "text": [
      "              precision    recall  f1-score   support\n",
      "\n",
      "           0       0.97      0.93      0.95       137\n",
      "           1       0.71      0.83      0.76       111\n",
      "           2       0.96      0.67      0.79       112\n",
      "           3       0.59      0.72      0.65        96\n",
      "\n",
      "    accuracy                           0.80       456\n",
      "   macro avg       0.81      0.79      0.79       456\n",
      "weighted avg       0.82      0.80      0.80       456\n",
      "\n"
     ]
    }
   ],
   "source": [
    "predictions = cancer_model.predict(test_X)\n",
    "pred_labels = np.argmax(predictions, axis = 1)\n",
    "print(classification_report(test_Y, pred_labels))"
   ]
  },
  {
   "cell_type": "code",
   "execution_count": 9,
   "id": "7e645776",
   "metadata": {},
   "outputs": [
    {
     "data": {
      "image/png": "[encoded data removed]",
      "text/plain": [
       "<Figure size 432x288 with 2 Axes>"
      ]
     },
     "metadata": {
      "needs_background": "light"
     },
     "output_type": "display_data"
    }
   ],
   "source": [
    "disp = ConfusionMatrixDisplay(confusion_matrix=confusion_matrix(test_Y, pred_labels),\n",
    "                              display_labels=class_names)\n",
    "disp.plot()\n",
    "plt.show()\n"
   ]
  },
  {
   "cell_type": "code",
   "execution_count": 12,
   "id": "6f95a5e7",
   "metadata": {},
   "outputs": [
    {
     "data": {
      "text/plain": [
       "0.8249958047598701"
      ]
     },
     "execution_count": 12,
     "metadata": {},
     "output_type": "execute_result"
    }
   ],
   "source": [
    "precision_score(test_Y, pred_labels, average='weighted')"
   ]
  },
  {
   "cell_type": "code",
   "execution_count": 14,
   "id": "8cb8ac1b",
   "metadata": {},
   "outputs": [
    {
     "data": {
      "text/plain": [
       "364"
      ]
     },
     "execution_count": 14,
     "metadata": {},
     "output_type": "execute_result"
    }
   ],
   "source": [
    "from sklearn.metrics import confusion_matrix, f1_score, roc_curve, precision_score, recall_score, accuracy_score, roc_auc_score, plot_confusion_matrix, ConfusionMatrixDisplay\n",
    "accuracy_score(test_Y, pred_labels,normalize=False)"
   ]
  },
  {
   "cell_type": "code",
   "execution_count": 15,
   "id": "5bc4e299",
   "metadata": {},
   "outputs": [
    {
     "data": {
      "text/plain": [
       "0.7982456140350878"
      ]
     },
     "execution_count": 15,
     "metadata": {},
     "output_type": "execute_result"
    }
   ],
   "source": [
    "recall_score(test_Y, pred_labels, average='weighted')"
   ]
  },
  {
   "cell_type": "code",
   "execution_count": null,
   "id": "8046fef7",
   "metadata": {},
   "outputs": [],
   "source": []
  }
 ],
 "metadata": {
  "kernelspec": {
   "display_name": "Python 3 (ipykernel)",
   "language": "python",
   "name": "python3"
  },
  "language_info": {
   "codemirror_mode": {
    "name": "ipython",
    "version": 3
   },
   "file_extension": ".py",
   "mimetype": "text/x-python",
   "name": "python",
   "nbconvert_exporter": "python",
   "pygments_lexer": "ipython3",
   "version": "3.9.7"
  }
 },
 "nbformat": 4,
 "nbformat_minor": 5
}
