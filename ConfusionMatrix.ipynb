{
 "cells": [
  {
   "cell_type": "code",
   "execution_count": 1,
   "id": "faeba8db",
   "metadata": {},
   "outputs": [],
   "source": [
    "from sklearn.metrics import confusion_matrix, f1_score, roc_curve, precision_score, recall_score, accuracy_score, roc_auc_score, plot_confusion_matrix, ConfusionMatrixDisplay\n",
    "from sklearn import metrics\n",
    "import mlxtend\n",
    "from keras.models import load_model\n",
    "from keras.preprocessing.image import ImageDataGenerator\n",
    "import numpy as np\n",
    "import matplotlib.pyplot as plt"
   ]
  },
  {
   "cell_type": "code",
   "execution_count": 14,
   "id": "c5de85bf",
   "metadata": {},
   "outputs": [
    {
     "name": "stdout",
     "output_type": "stream",
     "text": [
      "Found 312 images belonging to 4 classes.\n"
     ]
    }
   ],
   "source": [
    "width_shape = 224\n",
    "height_shape = 224\n",
    "batch_size = 32 \n",
    "\n",
    "names = ['MALIGNANTMASSES', 'CALC', 'BENIGNMASSES', 'NORM']\n",
    "test_data_directory = r\"C:\\Users\\hp\\Documents\\CursoML\\processed\\Testing\"\n",
    "\n",
    "test_datagen = ImageDataGenerator()\n",
    "\n",
    "test_generator = test_datagen.flow_from_directory(\n",
    "    test_data_directory,\n",
    "    target_size=(width_shape, height_shape), \n",
    "    batch_size = batch_size,\n",
    "    class_mode='categorical', \n",
    "    shuffle=False)\n",
    "\n",
    "cancer_model= load_model(\"model_tesis.h5\")"
   ]
  },
  {
   "cell_type": "code",
   "execution_count": 15,
   "id": "f0b14b75",
   "metadata": {},
   "outputs": [
    {
     "name": "stderr",
     "output_type": "stream",
     "text": [
      "C:\\Users\\hp\\AppData\\Local\\Temp/ipykernel_16400/2704713775.py:1: UserWarning: `Model.predict_generator` is deprecated and will be removed in a future version. Please use `Model.predict`, which supports generators.\n",
      "  predictions = cancer_model.predict_generator(generator=test_generator)\n"
     ]
    }
   ],
   "source": [
    "predictions = cancer_model.predict_generator(generator=test_generator)\n",
    "\n",
    "y_pred = np.argmax(predictions, axis=1)\n",
    "y_real = test_generator.classes"
   ]
  },
  {
   "cell_type": "code",
   "execution_count": 16,
   "id": "cefdd56e",
   "metadata": {},
   "outputs": [
    {
     "data": {
      "image/png": "[encoded data removed]",
      "text/plain": [
       "<Figure size 432x288 with 2 Axes>"
      ]
     },
     "metadata": {
      "needs_background": "light"
     },
     "output_type": "display_data"
    }
   ],
   "source": [
    "#matc=confusion_matrix(y_real, y_pred)\n",
    "disp = ConfusionMatrixDisplay(confusion_matrix=confusion_matrix(y_real, y_pred),\n",
    "                              display_labels=names)\n",
    "disp.plot()\n",
    "plt.show()\n",
    "\n"
   ]
  },
  {
   "cell_type": "code",
   "execution_count": 17,
   "id": "1b7b0559",
   "metadata": {},
   "outputs": [
    {
     "name": "stdout",
     "output_type": "stream",
     "text": [
      "              precision    recall  f1-score   support\n",
      "\n",
      "           0     1.0000    0.9375    0.9677        96\n",
      "           1     0.7183    0.7183    0.7183        71\n",
      "           2     0.9839    0.7349    0.8414        83\n",
      "           3     0.5506    0.7903    0.6490        62\n",
      "\n",
      "    accuracy                         0.8045       312\n",
      "   macro avg     0.8132    0.7953    0.7941       312\n",
      "weighted avg     0.8423    0.8045    0.8140       312\n",
      "\n"
     ]
    }
   ],
   "source": [
    "print(metrics.classification_report(y_real,y_pred, digits = 4))"
   ]
  },
  {
   "cell_type": "code",
   "execution_count": 19,
   "id": "157518a3",
   "metadata": {},
   "outputs": [
    {
     "data": {
      "text/plain": [
       "0.8422952621258167"
      ]
     },
     "execution_count": 19,
     "metadata": {},
     "output_type": "execute_result"
    }
   ],
   "source": [
    "precision_score(y_real, y_pred, average='weighted')"
   ]
  },
  {
   "cell_type": "code",
   "execution_count": 20,
   "id": "f09275c6",
   "metadata": {},
   "outputs": [
    {
     "data": {
      "text/plain": [
       "251"
      ]
     },
     "execution_count": 20,
     "metadata": {},
     "output_type": "execute_result"
    }
   ],
   "source": [
    "accuracy_score(y_real, y_pred,normalize=False)"
   ]
  },
  {
   "cell_type": "code",
   "execution_count": 23,
   "id": "6a75642f",
   "metadata": {},
   "outputs": [
    {
     "data": {
      "text/plain": [
       "0.8044871794871795"
      ]
     },
     "execution_count": 23,
     "metadata": {},
     "output_type": "execute_result"
    }
   ],
   "source": [
    "recall_score(y_real, y_pred, average='weighted')"
   ]
  },
  {
   "cell_type": "code",
   "execution_count": null,
   "id": "3992f1fe",
   "metadata": {},
   "outputs": [],
   "source": []
  }
 ],
 "metadata": {
  "kernelspec": {
   "display_name": "Python 3 (ipykernel)",
   "language": "python",
   "name": "python3"
  },
  "language_info": {
   "codemirror_mode": {
    "name": "ipython",
    "version": 3
   },
   "file_extension": ".py",
   "mimetype": "text/x-python",
   "name": "python",
   "nbconvert_exporter": "python",
   "pygments_lexer": "ipython3",
   "version": "3.9.7"
  }
 },
 "nbformat": 4,
 "nbformat_minor": 5
}
