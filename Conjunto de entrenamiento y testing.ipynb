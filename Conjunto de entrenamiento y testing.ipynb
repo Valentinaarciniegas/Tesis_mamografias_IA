{
 "cells": [
  {
   "cell_type": "code",
   "execution_count": 12,
   "id": "d4ef7d22",
   "metadata": {},
   "outputs": [],
   "source": [
    "import pandas as pd\n",
    "import numpy as np\n",
    "import matplotlib.pyplot as plt"
   ]
  },
  {
   "cell_type": "code",
   "execution_count": 5,
   "id": "1db06604",
   "metadata": {},
   "outputs": [],
   "source": [
    "data = pd.read_csv(\"C:\\cursoML\\python-ml-course-master\\datasets\\customer-churn-model\\Customer Churn Model.txt\")"
   ]
  },
  {
   "cell_type": "markdown",
   "id": "1090cc14",
   "metadata": {},
   "source": [
    "# Dividir utilizando la distribucion normal "
   ]
  },
  {
   "cell_type": "code",
   "execution_count": 13,
   "id": "62047a95",
   "metadata": {},
   "outputs": [
    {
     "data": {
      "text/plain": [
       "(array([ 13.,  63., 255., 624., 894., 807., 442., 182.,  43.,  10.]),\n",
       " array([-3.31829743, -2.63828091, -1.95826439, -1.27824787, -0.59823136,\n",
       "         0.08178516,  0.76180168,  1.4418182 ,  2.12183472,  2.80185123,\n",
       "         3.48186775]),\n",
       " <BarContainer object of 10 artists>)"
      ]
     },
     "execution_count": 13,
     "metadata": {},
     "output_type": "execute_result"
    },
    {
     "data": {
      "image/png": "[encoded data removed]",
      "text/plain": [
       "<Figure size 432x288 with 1 Axes>"
      ]
     },
     "metadata": {
      "needs_background": "light"
     },
     "output_type": "display_data"
    }
   ],
   "source": [
    "a = np.random.randn(len(data))\n",
    "plt.hist(a)"
   ]
  },
  {
   "cell_type": "code",
   "execution_count": 16,
   "id": "4959e890",
   "metadata": {},
   "outputs": [
    {
     "data": {
      "text/plain": [
       "array([ True, False,  True, ...,  True,  True,  True])"
      ]
     },
     "execution_count": 16,
     "metadata": {},
     "output_type": "execute_result"
    }
   ],
   "source": [
    "check = (a<0.8)\n",
    "check"
   ]
  },
  {
   "cell_type": "code",
   "execution_count": 21,
   "id": "4dda6f69",
   "metadata": {},
   "outputs": [
    {
     "data": {
      "text/plain": [
       "2692"
      ]
     },
     "execution_count": 21,
     "metadata": {},
     "output_type": "execute_result"
    }
   ],
   "source": [
    "training = data[check]\n",
    "len(training)"
   ]
  },
  {
   "cell_type": "code",
   "execution_count": 22,
   "id": "a3ce68be",
   "metadata": {},
   "outputs": [
    {
     "data": {
      "text/plain": [
       "641"
      ]
     },
     "execution_count": 22,
     "metadata": {},
     "output_type": "execute_result"
    }
   ],
   "source": [
    "testing = data[~check]\n",
    "len(testing)"
   ]
  },
  {
   "cell_type": "markdown",
   "id": "ac6c3447",
   "metadata": {},
   "source": [
    "# Con la libreria de sklearn"
   ]
  },
  {
   "cell_type": "code",
   "execution_count": 25,
   "id": "3c002c61",
   "metadata": {},
   "outputs": [],
   "source": [
    "from sklearn.model_selection import train_test_split"
   ]
  },
  {
   "cell_type": "code",
   "execution_count": 26,
   "id": "c92d3881",
   "metadata": {},
   "outputs": [
    {
     "data": {
      "text/plain": [
       "2666"
      ]
     },
     "execution_count": 26,
     "metadata": {},
     "output_type": "execute_result"
    }
   ],
   "source": [
    "train, test = train_test_split(data, test_size=0.2)\n",
    "len(train)"
   ]
  },
  {
   "cell_type": "code",
   "execution_count": 27,
   "id": "240a3ad0",
   "metadata": {},
   "outputs": [
    {
     "data": {
      "text/plain": [
       "667"
      ]
     },
     "execution_count": 27,
     "metadata": {},
     "output_type": "execute_result"
    }
   ],
   "source": [
    "len(test)"
   ]
  },
  {
   "cell_type": "markdown",
   "id": "27596413",
   "metadata": {},
   "source": [
    "## Usando una funcion de shuffle"
   ]
  },
  {
   "cell_type": "code",
   "execution_count": 29,
   "id": "07e0acc1",
   "metadata": {},
   "outputs": [],
   "source": [
    "import sklearn"
   ]
  },
  {
   "cell_type": "code",
   "execution_count": 31,
   "id": "f34dab1b",
   "metadata": {},
   "outputs": [],
   "source": [
    "data = sklearn.utils.shuffle(data)"
   ]
  },
  {
   "cell_type": "code",
   "execution_count": 32,
   "id": "659f7baf",
   "metadata": {},
   "outputs": [],
   "source": [
    "cut_id = int(0.75*len(data))\n",
    "train_data = data[:cut_id]\n",
    "test_data = data[cut_id+1:]"
   ]
  },
  {
   "cell_type": "code",
   "execution_count": 33,
   "id": "9f71a933",
   "metadata": {},
   "outputs": [
    {
     "data": {
      "text/plain": [
       "2499"
      ]
     },
     "execution_count": 33,
     "metadata": {},
     "output_type": "execute_result"
    }
   ],
   "source": [
    "len(train_data)"
   ]
  },
  {
   "cell_type": "code",
   "execution_count": 34,
   "id": "cceaf529",
   "metadata": {},
   "outputs": [
    {
     "data": {
      "text/plain": [
       "833"
      ]
     },
     "execution_count": 34,
     "metadata": {},
     "output_type": "execute_result"
    }
   ],
   "source": [
    "len(test_data)"
   ]
  },
  {
   "cell_type": "code",
   "execution_count": null,
   "id": "e93f711c",
   "metadata": {},
   "outputs": [],
   "source": []
  }
 ],
 "metadata": {
  "kernelspec": {
   "display_name": "Python 3 (ipykernel)",
   "language": "python",
   "name": "python3"
  },
  "language_info": {
   "codemirror_mode": {
    "name": "ipython",
    "version": 3
   },
   "file_extension": ".py",
   "mimetype": "text/x-python",
   "name": "python",
   "nbconvert_exporter": "python",
   "pygments_lexer": "ipython3",
   "version": "3.9.7"
  }
 },
 "nbformat": 4,
 "nbformat_minor": 5
}
