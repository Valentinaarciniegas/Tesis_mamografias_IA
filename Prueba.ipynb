{
 "cells": [
  {
   "cell_type": "code",
   "execution_count": null,
   "id": "7b7e9d8e",
   "metadata": {},
   "outputs": [],
   "source": [
    "import numpy as np\n",
    "import os\n",
    "import re\n",
    "import matplotlib.pyplot as plt\n",
    "%matplotlib inline\n",
    "from sklearn.model_selection import train_test_split\n",
    "from sklearn.metrics import classification_report\n",
    "import keras"
   ]
  },
  {
   "cell_type": "code",
   "execution_count": 3,
   "id": "898b6f00",
   "metadata": {},
   "outputs": [
    {
     "name": "stdout",
     "output_type": "stream",
     "text": [
      "leyendo imagenes de  C:\\Users\\hp\\Documents\\CursoML\\allmias\\\n",
      "C:\\Users\\hp\\Documents\\CursoML\\allmias\\Testing\\ARCH 1\n",
      "C:\\Users\\hp\\Documents\\CursoML\\allmias\\Testing\\ASYM 4\n",
      "C:\\Users\\hp\\Documents\\CursoML\\allmias\\Testing\\CALC 3\n",
      "C:\\Users\\hp\\Documents\\CursoML\\allmias\\Testing\\CIRC 5\n",
      "C:\\Users\\hp\\Documents\\CursoML\\allmias\\Testing\\MISC 5\n",
      "C:\\Users\\hp\\Documents\\CursoML\\allmias\\Testing\\NORM 3\n",
      "C:\\Users\\hp\\Documents\\CursoML\\allmias\\Testing\\SPIC 42\n",
      "C:\\Users\\hp\\Documents\\CursoML\\allmias\\Training\\ARCH 4\n",
      "C:\\Users\\hp\\Documents\\CursoML\\allmias\\Training\\ASYM 15\n",
      "C:\\Users\\hp\\Documents\\CursoML\\allmias\\Training\\CALC 12\n",
      "C:\\Users\\hp\\Documents\\CursoML\\allmias\\Training\\CIRC 20\n"
     ]
    },
    {
     "ename": "SyntaxError",
     "evalue": "not a PNG file (<string>)",
     "output_type": "error",
     "traceback": [
      "Traceback \u001b[1;36m(most recent call last)\u001b[0m:\n",
      "  File \u001b[0;32m\"C:\\Users\\hp\\anaconda3\\lib\\site-packages\\IPython\\core\\interactiveshell.py\"\u001b[0m, line \u001b[0;32m3444\u001b[0m, in \u001b[0;35mrun_code\u001b[0m\n    exec(code_obj, self.user_global_ns, self.user_ns)\n",
      "  File \u001b[0;32m\"C:\\Users\\hp\\AppData\\Local\\Temp/ipykernel_18192/3533519420.py\"\u001b[0m, line \u001b[0;32m17\u001b[0m, in \u001b[0;35m<module>\u001b[0m\n    image = plt.imread(filepath)\n",
      "  File \u001b[0;32m\"C:\\Users\\hp\\anaconda3\\lib\\site-packages\\matplotlib\\pyplot.py\"\u001b[0m, line \u001b[0;32m2407\u001b[0m, in \u001b[0;35mimread\u001b[0m\n    return matplotlib.image.imread(fname, format)\n",
      "  File \u001b[0;32m\"C:\\Users\\hp\\anaconda3\\lib\\site-packages\\matplotlib\\image.py\"\u001b[0m, line \u001b[0;32m1501\u001b[0m, in \u001b[0;35mimread\u001b[0m\n    with img_open(fname) as image:\n",
      "  File \u001b[0;32m\"C:\\Users\\hp\\anaconda3\\lib\\site-packages\\PIL\\ImageFile.py\"\u001b[0m, line \u001b[0;32m121\u001b[0m, in \u001b[0;35m__init__\u001b[0m\n    self._open()\n",
      "\u001b[1;36m  File \u001b[1;32m\"C:\\Users\\hp\\anaconda3\\lib\\site-packages\\PIL\\PngImagePlugin.py\"\u001b[1;36m, line \u001b[1;32m676\u001b[1;36m, in \u001b[1;35m_open\u001b[1;36m\u001b[0m\n\u001b[1;33m    raise SyntaxError(\"not a PNG file\")\u001b[0m\n",
      "\u001b[1;36m  File \u001b[1;32m\"<string>\"\u001b[1;36m, line \u001b[1;32munknown\u001b[0m\n\u001b[1;31mSyntaxError\u001b[0m\u001b[1;31m:\u001b[0m not a PNG file\n"
     ]
    }
   ],
   "source": [
    "dirname = os.path.join(os.getcwd(), 'allmias')\n",
    "imgpath = dirname + os.sep \n",
    " \n",
    "images = []\n",
    "directories = []\n",
    "dircount = []\n",
    "prevRoot=''\n",
    "cant=0\n",
    "\n",
    "print(\"leyendo imagenes de \",imgpath)\n",
    "\n",
    "for root, dirnames, filenames in os.walk(imgpath):\n",
    "    for filename in filenames:\n",
    "        if re.search(\"\\.(jpg|jpeg|png|bmp|tiff)$\", filename):\n",
    "            cant=cant+1\n",
    "            filepath = os.path.join(root, filename)\n",
    "            image = plt.imread(filepath)\n",
    "            images.append(image)\n",
    "            b = \"Leyendo...\" + str(cant)\n",
    "            print (b, end=\"\\r\")\n",
    "            if prevRoot !=root:\n",
    "                print(root, cant)\n",
    "                prevRoot=root\n",
    "                directories.append(root)\n",
    "                dircount.append(cant)\n",
    "                cant=0\n",
    "dircount.append(cant)\n",
    "\n",
    "dircount = dircount[1:]\n",
    "dircount[0]=dircount[0]+1\n",
    "print('Directorios leidos:',len(directories))\n",
    "print(\"Imagenes en cada directorio\", dircount)\n",
    "print('suma Total de imagenes en subdirs:',sum(dircount))"
   ]
  },
  {
   "cell_type": "code",
   "execution_count": null,
   "id": "104e7232",
   "metadata": {},
   "outputs": [],
   "source": []
  }
 ],
 "metadata": {
  "kernelspec": {
   "display_name": "Python 3 (ipykernel)",
   "language": "python",
   "name": "python3"
  },
  "language_info": {
   "codemirror_mode": {
    "name": "ipython",
    "version": 3
   },
   "file_extension": ".py",
   "mimetype": "text/x-python",
   "name": "python",
   "nbconvert_exporter": "python",
   "pygments_lexer": "ipython3",
   "version": "3.9.7"
  }
 },
 "nbformat": 4,
 "nbformat_minor": 5
}
